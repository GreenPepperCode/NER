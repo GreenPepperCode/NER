{
 "cells": [
  {
   "cell_type": "code",
   "execution_count": 12,
   "metadata": {},
   "outputs": [
    {
     "name": "stdout",
     "output_type": "stream",
     "text": [
      "Similarité entre 'Gensim' et 'Word2Vec' : 0.04526207\n"
     ]
    }
   ],
   "source": [
    "# Importer les modules nécessaires\n",
    "from gensim.models import Word2Vec\n",
    "from gensim.utils import simple_preprocess\n",
    "from gensim.parsing.preprocessing import STOPWORDS\n",
    "\n",
    "# Créer une copie modifiable de STOPWORDS et supprimer \"Gensim\"\n",
    "stopwords = set(STOPWORDS)\n",
    "stopwords.discard(\"Gensim\")\n",
    "\n",
    "def preprocess_text(text):\n",
    "    \"\"\"\n",
    "    Cette fonction prend une chaîne de texte en entrée et renvoie une liste de mots prétraités.\n",
    "    Le prétraitement comprend la tokenisation, la suppression des ponctuations et des stopwords.\n",
    "    \"\"\"\n",
    "    # Tokeniser le texte\n",
    "    tokens = simple_preprocess(text)\n",
    "\n",
    "    # Supprimer les ponctuations et les stopwords (à l'exception de \"Gensim\")\n",
    "    filtered_tokens = [token for token in tokens if token not in stopwords and token.isalnum()]\n",
    "\n",
    "    # Ajouter manuellement le mot \"Gensim\" au texte prétraité s'il n'est pas déjà présent\n",
    "    if \"Gensim\" not in filtered_tokens:\n",
    "        filtered_tokens.append(\"Gensim\")\n",
    "\n",
    "    # Ajouter manuellement le mot \"Word2Vec\" au texte prétraité s'il n'est pas déjà présent\n",
    "    if \"Word2Vec\" not in filtered_tokens:\n",
    "        filtered_tokens.append(\"Word2Vec\")\n",
    "\n",
    "    return filtered_tokens\n",
    "\n",
    "# Fonction pour entraîner un modèle Word2Vec\n",
    "def train_word2vec_model(text, vector_size=100, window=5, min_count=1, epochs=100):\n",
    "    \"\"\"\n",
    "    Cette fonction prend une liste de chaînes de texte en entrée et renvoie un modèle Word2Vec entraîné.\n",
    "    Les paramètres du modèle peuvent être ajustés en fonction des besoins.\n",
    "    \"\"\"\n",
    "    # Prétraiter le texte\n",
    "    processed_text = [preprocess_text(sentence) for sentence in text]\n",
    "\n",
    "    # Créer un modèle Word2Vec vide\n",
    "    model = Word2Vec(vector_size=vector_size, window=window, min_count=min_count)\n",
    "\n",
    "    # Entraîner le modèle Word2Vec\n",
    "    model.build_vocab(processed_text)\n",
    "    model.train(processed_text, total_examples=len(processed_text), epochs=epochs)\n",
    "\n",
    "    return model\n",
    "\n",
    "# Exemple d'utilisation\n",
    "text = [\n",
    "    \"Ce code est un exemple de manipulation de texte avec Gensim.\",\n",
    "    \"Gensim est une bibliothèque populaire pour le traitement du langage naturel.\",\n",
    "    \"Avec Gensim, vous pouvez facilement créer des modèles Word2Vec.\"\n",
    "]\n",
    "\n",
    "# Entraîner un modèle Word2Vec avec le texte donné\n",
    "model = train_word2vec_model(text)\n",
    "\n",
    "# Obtenir les vecteurs de mots\n",
    "word_vectors = model.wv\n",
    "\n",
    "# Afficher la similarité entre deux mots\n",
    "print(\"Similarité entre 'Gensim' et 'Word2Vec' :\", word_vectors.similarity('Gensim', 'Word2Vec'))\n"
   ]
  }
 ],
 "metadata": {
  "kernelspec": {
   "display_name": "NLP",
   "language": "python",
   "name": "python3"
  },
  "language_info": {
   "codemirror_mode": {
    "name": "ipython",
    "version": 3
   },
   "file_extension": ".py",
   "mimetype": "text/x-python",
   "name": "python",
   "nbconvert_exporter": "python",
   "pygments_lexer": "ipython3",
   "version": "3.9.13"
  }
 },
 "nbformat": 4,
 "nbformat_minor": 2
}
