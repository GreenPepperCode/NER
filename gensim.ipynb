{
 "cells": [
  {
   "cell_type": "code",
   "execution_count": 1,
   "metadata": {},
   "outputs": [
    {
     "name": "stdout",
     "output_type": "stream",
     "text": [
      "Texte prétraité : ['ceci', 'est', 'exemple', 'texte', 'prétraiter']\n"
     ]
    }
   ],
   "source": [
    "# Importer les modules nécessaires\n",
    "import gensim\n",
    "from gensim.utils import simple_preprocess\n",
    "from gensim.parsing.preprocessing import STOPWORDS\n",
    "\n",
    "# Fonction pour prétraiter le texte\n",
    "def preprocess_text(text):\n",
    "    \"\"\"\n",
    "    Cette fonction prend une chaîne de texte en entrée et renvoie une liste de mots prétraités.\n",
    "    Le prétraitement comprend la tokenisation, la suppression des ponctuations et des stopwords.\n",
    "    \"\"\"\n",
    "    # Tokeniser le texte\n",
    "    tokens = simple_preprocess(text)\n",
    "\n",
    "    # Supprimer les ponctuations et les stopwords\n",
    "    filtered_tokens = [token for token in tokens if token not in STOPWORDS and token.isalnum()]\n",
    "\n",
    "    return filtered_tokens\n",
    "\n",
    "# Exemple d'utilisation\n",
    "text = \"Ceci est un exemple de texte à prétraiter.\"\n",
    "preprocessed_text = preprocess_text(text)\n",
    "print(\"Texte prétraité :\", preprocessed_text)\n"
   ]
  }
 ],
 "metadata": {
  "kernelspec": {
   "display_name": "Python 3",
   "language": "python",
   "name": "python3"
  },
  "language_info": {
   "codemirror_mode": {
    "name": "ipython",
    "version": 3
   },
   "file_extension": ".py",
   "mimetype": "text/x-python",
   "name": "python",
   "nbconvert_exporter": "python",
   "pygments_lexer": "ipython3",
   "version": "3.9.13"
  }
 },
 "nbformat": 4,
 "nbformat_minor": 2
}
